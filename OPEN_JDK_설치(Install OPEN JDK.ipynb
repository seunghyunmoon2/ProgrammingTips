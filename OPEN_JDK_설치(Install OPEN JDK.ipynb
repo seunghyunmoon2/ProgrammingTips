{
  "nbformat": 4,
  "nbformat_minor": 0,
  "metadata": {
    "colab": {
      "name": "OPEN JDK 설치.ipynb",
      "provenance": [],
      "collapsed_sections": [],
      "toc_visible": true,
      "authorship_tag": "ABX9TyOAJ1iC/zSikV8/Gki7Pjnr",
      "include_colab_link": true
    },
    "kernelspec": {
      "name": "python3",
      "display_name": "Python 3"
    }
  },
  "cells": [
    {
      "cell_type": "markdown",
      "metadata": {
        "id": "view-in-github",
        "colab_type": "text"
      },
      "source": [
        "<a href=\"https://colab.research.google.com/github/seunghyunmoon2/ProgrammingTips/blob/master/OPEN_JDK_%EC%84%A4%EC%B9%98(Install%20OPEN%20JDK.ipynb\" target=\"_parent\"><img src=\"https://colab.research.google.com/assets/colab-badge.svg\" alt=\"Open In Colab\"/></a>"
      ]
    },
    {
      "cell_type": "markdown",
      "metadata": {
        "id": "GQ1mE4_0Q7dY",
        "colab_type": "text"
      },
      "source": [
        "# OPEN JDK 설치\n",
        "\n",
        "네이버블로그 [David's story](https://blog.naver.com/rudnfskf2/221490709675)내용을 그대로 옮겨왔습니다."
      ]
    },
    {
      "cell_type": "markdown",
      "metadata": {
        "id": "Bj2UX5F-RgmA",
        "colab_type": "text"
      },
      "source": [
        "# 인트로\n",
        "\n",
        "환경설정 그 첫번째는 Windows 10 운영체제에서 Java환경설정이 되겠습니다.\n",
        "\n",
        "1. Java 환경설정의 전체 글은 4개의 포스팅으로 구성할 예정 입니다.\n",
        "\n",
        "2. Open JDK설치 및 환경 변수 설정\n",
        "\n",
        "~3. Eclipse설치 및 git, github연동~\n",
        "\n",
        "~4. tomcat 설치 및 Java 웹 개발 환경설정~\n",
        "\n",
        "~5. 빌드 툴 (gradle 또는 maven) 연동하기~\n",
        "\n",
        "​"
      ]
    },
    {
      "cell_type": "markdown",
      "metadata": {
        "id": "jiaunFaeXOcI",
        "colab_type": "text"
      },
      "source": [
        "# 본문"
      ]
    },
    {
      "cell_type": "markdown",
      "metadata": {
        "id": "K3MWYSvQS4uQ",
        "colab_type": "text"
      },
      "source": [
        "------------------------------------------------------------------------------------------------------------------------------\n",
        "\n",
        "Open JDK설치 및 환경 변수 설정\n",
        "\n",
        "목차 \n",
        "\n",
        "1. Java설치하기\n",
        "\n",
        "2. 환경변수 설정하기"
      ]
    },
    {
      "cell_type": "markdown",
      "metadata": {
        "id": "whK0ounSQ2K8",
        "colab_type": "text"
      },
      "source": [
        "------------------------------------------------------------------------------------------------------------------------------\n",
        "\n",
        "1. Java설치하기\n",
        "\n",
        " 1) Open JDK 다운로드\n",
        "\n",
        "- 아래 사진의 github url에서 open jdk를 다운 받을 수 있습니다. \n",
        "\n",
        "- 저는 64비트 msi파일을 다운 받아 설치 했습니다.   \n",
        "\n",
        "![1](https://drive.google.com/uc?export=view&id=1T_CqFQZFtdhKFCJiE7yluXVKsAq6t3W9)\n",
        "\n",
        "2) open jdk 설치하기\n",
        "\n",
        "- Next를 클릭합니다.   \n",
        "![#웰컴스크린](​https://drive.google.com/uc?export=view&id=1GOrrdNuQeK3ReBBgVbyz5n_DZruK4c2B)\n",
        "\n",
        "- I accept the terms in the License Agreement의 체크박스를 클릭 -> Next클릭   \n",
        "![3](https://drive.google.com/uc?export=view&id=1msQ76jg6K1Du7xsT0SFu6AP2hVk2jZRE)\n",
        "\n",
        "- 기본설치 경로로 설치하신다면 Next를 클릭 \n",
        "\n",
        "   자신이 원하는 곳에 설치하고 싶다면 Browse..를 클릭한 후 경로를 지정합니다.   \n",
        "![4](https://drive.google.com/uc?export=view&id=1Ykz9JFsfOOf6UAoplPILd1cKDyWH1crQ)\n",
        " \n",
        "- Install 클릭   \n",
        "![5](https://drive.google.com/uc?export=view&id=17MvKoe_rH4iWhctT4dya0qOop4SQMS1Y)\n",
        "\n",
        "- Finish 클릭하여 설치를 마칩니다.   \n",
        "![6](https://drive.google.com/uc?export=view&id=1Z6VQq3ttD5_fBkAcFPPPWknjb0aDBeEk)\n",
        "\n",
        "2. 환경변수 설정하기\n",
        "\n",
        "1) Windows 10의 환경변수 설정하는 곳 찾기 \n",
        "\n",
        "  - Windows 10의 환경변수를 설정하는 곳은 \"고급 시스템 설정\"입니다. \n",
        "\n",
        "어떤 형태든 \"고급 시스템 설정\"에 들어가기만 하면 됩니다.\n",
        "\n",
        "아래는 제가 찾는 방식입니다.\n",
        "\n",
        "- 폴더를 열고 좌측의 탐색기의 \"내 PC\"를 클릭하여 포커싱 합니다.   \n",
        "![7](https://drive.google.com/uc?export=view&id=1FEgRDtpqVF67mNxa681fYIZvqnm99Sho)\n",
        "\n",
        "- \"내 PC\"에서 마우스 우클릭 -> \"속성(R)\"을 클릭합니다.   \n",
        "![8](https://drive.google.com/uc?export=view&id=1gvZdIfhwYZsNRCy6a9Ea7fr89Hqf4cJD)\n",
        "\n",
        "- \"고급 시스템 설정\"을 클릭 합니다.   \n",
        "![9](https://drive.google.com/uc?export=view&id=1uZTlVnT6isCEHkCbTPKTtdpo5Wu0YVhQ)\n",
        "\n",
        "- \"고급\" -> 환경변수 이곳이 Windows 10의 환경변수를 설정할 수 있는 곳입니다.   \n",
        "![10](https://drive.google.com/uc?export=view&id=1vKsI-4kk8T4SkLXsxXE8c2wqywgFx_Fc)\n",
        "\n",
        "\n",
        "\n",
        "2) Java개발을 위한 환경변수 설정\n",
        "\n",
        " (1) JAVA_HOME환경 변수 만들기\n",
        "\n",
        "- open jdk가 설치된 폴더의 경로를 복사 합니다.   \n",
        "![11](https://drive.google.com/uc?export=view&id=1lLbdxiWbEfKbH7LMCp_48_QYO8kGSkun)\n",
        "\n",
        "- \"환경변수\" -> \"새로 만들기\"를 클릭   \n",
        "![12](https://drive.google.com/uc?export=view&id=1Ra081J79HQBH0K3xoD1D1CYE-GyuSD04)\n",
        "\n",
        "- 변수 이름(JAVA_HOME)과 변수 값(Open JDK의 경로)을 입력한 뒤 \"확인\"을 클릭   \n",
        "![13](https://drive.google.com/uc?export=view&id=1LWXGJ6WGOS96Vp9N7BkfV9t2ztJNDqZ9)\n",
        "\n",
        " (2) classpath환경 변수 만들기\n",
        "```\n",
        ".;%JAVA_HOME%\\lib\\tools.jar\n",
        "```\n",
        "![14](https://drive.google.com/uc?export=view&id=1EidjCA4VLxA75BTEsnoBQE4ax3ExkU8N)\n",
        "\n",
        "(3) JVM의 UTF-8 인코딩 설정하기\n",
        "\n",
        "- Gradle 스크립트를 사용하신 다면 설정해주시면 UTF-8인코딩이 됩니다.\n",
        "\n",
        "```\n",
        "-Dfile.encoding=UTF-8 -Dsun.jnu.encoding=UTF-8\n",
        "```\n",
        "![15](https://drive.google.com/uc?export=view&id=1ON2LXYOJSZ_L-Wl77hKUEmh49F3xegbz)\n",
        "\n",
        "(4) \"path\"변수 편집하기\n",
        "\n",
        " - 기존에 존재하는 \"Path\"라는 변수에 새로 만든 환경변수를 추가해 주어야 windows의 어디서든 java가 실행가능해집니다.\n",
        "\n",
        "- Path에 포커스 한 후 편집(I)를 클릭   \n",
        "![16](https://drive.google.com/uc?export=view&id=10gPd1ht5bXLYp77SIv3Q5RU4OukXXSL0)\n",
        "\n",
        "- 새로만든 변수를 추가해 줍니다.   \n",
        "![17](https://drive.google.com/uc?export=view&id=1b5crFEskVA42iwdNnegVxmC-nUNeVTyM)\n",
        "\n",
        "​\n",
        "\n",
        "(5) 확인하기\n",
        "\n",
        "- 명령 프롬프트(cmd )를 실행합니다.   \n",
        "![18](https://drive.google.com/uc?export=view&id=1UCStHVlszIbXXyAS9BxUryS_U8RR8yLO)\n",
        "\n",
        "- 명령 프롬프트에 \"java\", \"javac\" 를 각각 입력한 후 아래 사진과 같은 문구들이 출력되면 성공입니다.   \n",
        "![19](https://drive.google.com/uc?export=view&id=1nrMmgcgpcv4-i58-Qu73mZ7fYOlUCyAH)\n",
        "\n",
        "-------------------------------------------------------------------------------------------------------------------\n",
        "\n",
        "이상으로  Open JDK설치 및 환경 변수 설정을 마칩니다. 다음은 Eclipse설치 및 git, github연동을 포스팅하겠습니다.   \n",
        "\n",
        "[출처] 개발 환경 설정 (Windows 10 - Java) 01. Open JDK 1.8 설치 및 환경 변수 설정|작성자 [David](https://blog.naver.com/rudnfskf2/221490709675)"
      ]
    },
    {
      "cell_type": "code",
      "metadata": {
        "id": "a20-n28pRb4Q",
        "colab_type": "code",
        "colab": {}
      },
      "source": [
        ""
      ],
      "execution_count": null,
      "outputs": []
    }
  ]
}